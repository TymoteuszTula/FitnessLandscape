{
 "cells": [
  {
   "cell_type": "markdown",
   "metadata": {},
   "source": [
    "# Using CorrelationConnection"
   ]
  },
  {
   "cell_type": "markdown",
   "metadata": {},
   "source": [
    "## Preliminaries"
   ]
  },
  {
   "cell_type": "markdown",
   "metadata": {},
   "source": [
    "First of all, follow the instructions on README.md to install the software and activate the right Conda enviornment. Once that has been done, you can launch this Jupyter Notebook. "
   ]
  },
  {
   "cell_type": "markdown",
   "metadata": {},
   "source": [
    "Load necessary libraries:"
   ]
  },
  {
   "cell_type": "code",
   "execution_count": null,
   "metadata": {},
   "outputs": [],
   "source": [
    "import pickle\n",
    "import sys\n",
    "sys.path.append(\"./bin/\")\n",
    "sys.path.append(\".\")\n",
    "import numpy as np\n",
    "import matplotlib.pyplot as plt"
   ]
  },
  {
   "cell_type": "markdown",
   "metadata": {},
   "source": [
    "Tell your system where it can find executables:"
   ]
  },
  {
   "cell_type": "code",
   "execution_count": null,
   "metadata": {},
   "outputs": [],
   "source": [
    "sys.path.append(\"../bin/\")\n",
    "sys.path.append(\".\")"
   ]
  },
  {
   "cell_type": "markdown",
   "metadata": {},
   "source": [
    "The line above may change depending on your working directory. The exact way it is written above works if your working directory is a subfolder of ```CorrelationConnection``` (e.g. ```CorrelationConnection/docs```) and ```CorrelationConnection``` contains another sub-folder called ```bin``` containing the files ```exact_diagonalisation_code.py```, ```exact_diagonalisation_code_sparse.py```, etc."
   ]
  },
  {
   "cell_type": "markdown",
   "metadata": {},
   "source": [
    "Import some more libraries:"
   ]
  },
  {
   "cell_type": "code",
   "execution_count": null,
   "metadata": {},
   "outputs": [],
   "source": [
    "# import scipy \n",
    "# import scipy.sparse.linalg as sprsla\n",
    "from hamiltonians import NNHamiltonian\n",
    "from randomizer import RandomizerStateRandomDelta\n",
    "from stability_analysis_class import StabilityAnalysisSparse\n",
    "from tools import SijCalculator\n",
    "# from tools import create_sx_sparse, create_sy_sparse, create_sz_sparse\n",
    "# from math import sqrt, pi"
   ]
  },
  {
   "cell_type": "markdown",
   "metadata": {},
   "source": [
    "## Generating data"
   ]
  },
  {
   "cell_type": "markdown",
   "metadata": {},
   "source": [
    "Let's now get started with the generation of some data from scratch. We will focus on quantum tomography in the ground state as an example."
   ]
  },
  {
   "cell_type": "markdown",
   "metadata": {},
   "source": [
    "### Creating a Hamiltonian"
   ]
  },
  {
   "cell_type": "markdown",
   "metadata": {},
   "source": [
    "To begin, we will create a Hamiltonian object for ```L``` sites with interactions up to next nearest neighbours at temperature ```temp=0```. This is achieved with the class ```NNHamiltonian(L, h, J_onsite, J_nn, J_nnn, temp=0)```. To keep things simple we will make the system a dimer and we will not apply a magnetic field: "
   ]
  },
  {
   "cell_type": "code",
   "execution_count": null,
   "metadata": {},
   "outputs": [],
   "source": [
    "# 1) SET VALUES FOR INPUTS:\n",
    "\n",
    "L= 6                                           # <-- Tetramer\n",
    "h = [[0, 0, 0.5]]                              # <-- Applied field in Z\n",
    "J_onsite = np.zeros((3, 3))                    # <-- No onsite interactions (superfluous anyway)\n",
    "J_nnn = np.zeros((3, 3))                       # <-- No nnn interactions\n",
    "J_nn = [[1.2, 0, 0], [0, 0.8, 0], [0, 0, 1]]   # <-- Some diagonal nn interactions\n",
    "\n",
    "# 2) CREATE THE HAMILTONIAN: \n",
    "\n",
    "temp = 0\n",
    "HAMILTONIAN = NNHamiltonian(L, h, J_onsite, J_nn, J_nnn, temp=temp)"
   ]
  },
  {
   "cell_type": "markdown",
   "metadata": {},
   "source": [
    "```NNHamiltonian(L, h, J_onsite, J_nn, J_nnn, temp=0)``` is one of many classes of Hamiltonians.  The others can be found in ```bin/hamiltonians.py```. Here we also set whether the calculations will be for zero or finite temperature states.\n",
    "\n",
    "Note that the object is not just the Hamiltonian. It includes the temperature as well. The Hamiltonian itself can be extracted using ```get_init_ham()```:"
   ]
  },
  {
   "cell_type": "code",
   "execution_count": null,
   "metadata": {},
   "outputs": [],
   "source": [
    "H=HAMILTONIAN.get_init_ham()"
   ]
  },
  {
   "cell_type": "markdown",
   "metadata": {},
   "source": [
    "The Hamiltonian ```H``` is not an array, it is a sparse matrix object (from ```scipy.sparse```). Therefore, only the matrix elements that are non zero are stored. If we try to print ```H``` we will get a list of its non-zero elements:"
   ]
  },
  {
   "cell_type": "code",
   "execution_count": null,
   "metadata": {},
   "outputs": [],
   "source": [
    "print(H)"
   ]
  },
  {
   "cell_type": "markdown",
   "metadata": {},
   "source": [
    "Note the factor of \"2\" in the definition of the Hamilonian."
   ]
  },
  {
   "cell_type": "markdown",
   "metadata": {},
   "source": [
    "Let us now find the ground-state energy and state vector:"
   ]
  },
  {
   "cell_type": "code",
   "execution_count": null,
   "metadata": {},
   "outputs": [],
   "source": [
    "GROUND_STATE=SijCalculator.find_gs_sparse(H)\n",
    "print(\"Ground state energy = \",GROUND_STATE[0],\"\\nGround state vector = \\n\",np.round(GROUND_STATE[1],2))"
   ]
  },
  {
   "cell_type": "markdown",
   "metadata": {},
   "source": [
    "Note that we have used np.round to write the grounds state with only 2 decimal points for clarity."
   ]
  },
  {
   "cell_type": "markdown",
   "metadata": {},
   "source": [
    "We can also work with a dense-matrix representation:"
   ]
  },
  {
   "cell_type": "code",
   "execution_count": null,
   "metadata": {},
   "outputs": [],
   "source": [
    "H_DENSE=H.todense()"
   ]
  },
  {
   "cell_type": "code",
   "execution_count": null,
   "metadata": {},
   "outputs": [],
   "source": [
    "print(H_DENSE)"
   ]
  },
  {
   "cell_type": "markdown",
   "metadata": {},
   "source": [
    "```find_eigvals``` can now be used to find all the energies:"
   ]
  },
  {
   "cell_type": "code",
   "execution_count": null,
   "metadata": {},
   "outputs": [],
   "source": [
    "ENERGIES = SijCalculator.find_eigvals(H_DENSE)"
   ]
  },
  {
   "cell_type": "code",
   "execution_count": null,
   "metadata": {},
   "outputs": [],
   "source": [
    "print(ENERGIES)"
   ]
  },
  {
   "cell_type": "markdown",
   "metadata": {},
   "source": [
    "### Generating fitness landscape data"
   ]
  },
  {
   "cell_type": "markdown",
   "metadata": {},
   "source": [
    "Now we can carry out the fitness landscape analysis. \n",
    "\n",
    "In order to do this we need to set a few parameters that specifiy the type of fitness landscape we want to explore and how.\n",
    "\n",
    "First, we need to set up a randomizer. There are several available, they are all in ```randomizer.py```. Here we use ```RandomizerStateRandomDelta``` which creates random state vectors the real and imaginary parts of whose amplitudes are picked from a flat probability distribution centred on those of a given input state. "
   ]
  },
  {
   "cell_type": "code",
   "execution_count": null,
   "metadata": {},
   "outputs": [],
   "source": [
    "delta= 0.5\n",
    "no_of_processes= 1\n",
    "distribution_type= {\"shape\": \"normal\", \"rhoMethod\": \"squareRandom\", \"rhoParams\": {'min_ev': 0.0}, \"scaleWithSize\": True}\n",
    "RANDOMIZER = RandomizerStateRandomDelta(HAMILTONIAN, delta, no_of_processes, distribution_type)"
   ]
  },
  {
   "cell_type": "markdown",
   "metadata": {},
   "source": [
    "Important parameters here are:\n",
    " - ```delta```: a maximum amount for a random scaling factor multiplying any randomly sampled state. The factor itself is generated for every random state from the uniform distribution [0, delta].\n",
    " - ```no_of_processes```: number of parallel runs for the generation of random samples. Set this to the amount of threads available for fastest results.\n",
    " - ```distribution_type```: a dictionary specifying the type of randomization. You can set up different types of distribution functions (uniform or normal), whether or not there should be a scaling size factor, and in the case of finite temperature calculations different ways of sampling random density matrices $\\rho$. \n",
    "Now, set up our exploration of the fitness landscape using ```StabilityAnalysisSparse``` from ```stability_analysis_class.py```: "
   ]
  },
  {
   "cell_type": "code",
   "execution_count": null,
   "metadata": {},
   "outputs": [],
   "source": [
    "corr = [\"Sxx\", \"Sxy\", \"Sxz\", \"Syx\", \"Syy\", \"Syz\", \"Szx\", \"Szy\", \"Szz\"]"
   ]
  },
  {
   "cell_type": "code",
   "execution_count": null,
   "metadata": {},
   "outputs": [],
   "source": [
    "STABILITY_ANALYSIS = StabilityAnalysisSparse(HAMILTONIAN, RANDOMIZER, corr, save_Sqs=True, save_Sijs=True, save_Sqints=True)"
   ]
  },
  {
   "cell_type": "markdown",
   "metadata": {},
   "source": [
    "Everything is set up to run the algorithm:"
   ]
  },
  {
   "cell_type": "code",
   "execution_count": null,
   "metadata": {},
   "outputs": [],
   "source": [
    "no_of_samples= 50\n",
    "STABILITY_ANALYSIS.run(no_of_samples)"
   ]
  },
  {
   "cell_type": "markdown",
   "metadata": {},
   "source": [
    "The output is saved in the ```STABILITY_ANALYSIS``` instance. Let see some relevant examples:"
   ]
  },
  {
   "cell_type": "markdown",
   "metadata": {},
   "source": [
    "```dist``` contains the distances of the random states to the ground state of the reference Hamiltonian:"
   ]
  },
  {
   "cell_type": "code",
   "execution_count": null,
   "metadata": {
    "scrolled": true
   },
   "outputs": [],
   "source": [
    "dist = STABILITY_ANALYSIS.dist\n",
    "dist"
   ]
  },
  {
   "cell_type": "markdown",
   "metadata": {},
   "source": [
    "```en``` contains the corresponding state energies of the initial Hamiltonian, as compared to the ground state: $\\langle \\psi_{\\text{rand}} | H_{\\text{init}} | \\psi_{\\text{rand}}\\rangle - E_0$"
   ]
  },
  {
   "cell_type": "code",
   "execution_count": null,
   "metadata": {},
   "outputs": [],
   "source": [
    "print(STABILITY_ANALYSIS.en)"
   ]
  },
  {
   "cell_type": "markdown",
   "metadata": {},
   "source": [
    "```diffSij``` contains the distances between real-space correlators:"
   ]
  },
  {
   "cell_type": "code",
   "execution_count": null,
   "metadata": {},
   "outputs": [],
   "source": [
    "STABILITY_ANALYSIS.diffSij"
   ]
  },
  {
   "cell_type": "markdown",
   "metadata": {},
   "source": [
    "```Sqs``` contains the reciprocal space expressions of all the random correlators, computed on a $100 \\times 100$ grid in $\\mathbf{q}$-space. In other words, these are the spin-resovled diffuse, magnetic neutron scattering functions. To be more explicit, let \n",
    "\n",
    "$\\rho_{i,j}^{\\alpha,\\beta}\\left[\\psi_n^{\\rm rand}\\right] \n",
    "\\equiv \n",
    "\\left\\langle \n",
    "    \\psi_n^{\\rm rand} \n",
    "    \\left| \n",
    "        S_i^{\\alpha} S_j^{\\beta} \n",
    "    \\right|\n",
    "    \\psi_n^{\\rm rand}\n",
    "\\right\\rangle$ \n",
    "\n",
    "represent the correlator between the component $\\alpha$ of the spin at site $i$ and the component $\\beta$ of the spin at site $j$ ($\\alpha,\\beta=x,y,z$; $i,j=0,1,\\ldots,L-1$). We define the reciprocal of this quantity (up to a normalisation constant) as \n",
    "\n",
    "$\\mathcal{S}_{\\alpha,\\beta}^n(\\mathbf{q})\n",
    "\\equiv \n",
    "\\frac{1}{L}\\sum_{i,j=0}^{L-1}e^{i\\mathbf{q}.(\\mathbf{R}_i-\\mathbf{R}_j)}\\rho_{i,j}^{\\alpha,\\beta}\\left[\\psi_n^{\\rm rand}\\right] $\n",
    "\n",
    "Note that this is not the same as a Fourier transform, as the quantity $\\rho_{i,j}^{\\alpha,\\beta}\\left[\\psi_n^{\\rm rand}\\right]$ does not depend only on $\\mathbf{R}_i-\\mathbf{R}_j$ but in general depends on $\\mathbf{R}_i$ and $\\mathbf{R}_j$ independently. Indeed, this will be the case for a magnetic molecule sitting somewhere in space, since the structure is not periodic in this case. For the same reason, the vector $\\mathbf{q}$ is not restricted to a discretised lattice. It represents the momentum transferred between the sample and the neutron, which can vary continuously. In the code we discretise the values of the two-dimensional vactor $\\mathbf{q}=(q_x,q_y)$ by allowing 100 values of $q_x$ and 100 values of $q_y$, each uniformly distributed between $-2\\pi$ and $+2\\pi$ (giving 10000 values of the wave vector $\\mathbf{q}$ in total)."
   ]
  },
  {
   "cell_type": "markdown",
   "metadata": {},
   "source": [
    "The structure of ```Sqs``` is best illustrated through a couple of  examples. For instance, in our case, \n",
    "\n",
    "```Sqs[3][\"Sxy\"][23][76]``` \n",
    "\n",
    "contains the value of $\\mathcal{S}_{x,y}^3(\\mathbf{q})$ at a wave vector $\\mathbf{q}$ given by the coordinates $(23,76)$ on our discretised reciproclal grid:"
   ]
  },
  {
   "cell_type": "code",
   "execution_count": null,
   "metadata": {},
   "outputs": [],
   "source": [
    "Sqs = STABILITY_ANALYSIS.Sqs\n",
    "print(Sqs[3][\"Sxy\"][23][76])"
   ]
  },
  {
   "cell_type": "markdown",
   "metadata": {},
   "source": [
    "Similarly \n",
    "\n",
    "```Sqs[2][\"Syy\"][10][35]``` \n",
    "\n",
    "contains the value of  $\\mathcal{S}_{y,y}^2(\\mathbf{q})$ at a wave vector $\\mathbf{q}$ given by the coordinates $(10,35)$:"
   ]
  },
  {
   "cell_type": "code",
   "execution_count": null,
   "metadata": {},
   "outputs": [],
   "source": [
    "print(Sqs[2][\"Syy\"][10][35])"
   ]
  },
  {
   "cell_type": "markdown",
   "metadata": {},
   "source": [
    "Note that the $xy$ correlator is a complex number, while the $yy$ correlator is real. This makes sense: $\\mathcal{S}_{\\alpha,\\beta}^n(\\mathbf{q})$ is not the expectation value of a Hermitian operator, and in general the sum over $i$ and $j$ will have terms of the form \n",
    "\n",
    "$\\left\\langle \n",
    "    \\psi_n^{\\rm rand} \n",
    "    \\left|  \n",
    "    S_i^{\\alpha} S_j^{\\beta}\n",
    " \\right|\n",
    "    \\psi_n^{\\rm rand}\n",
    "\\right\\rangle\n",
    "e^{i.(\\mathbf{R}_i-\\mathbf{R}_j)}\n",
    "+\n",
    "\\left\\langle \n",
    "    \\psi_n^{\\rm rand} \n",
    "    \\left| \n",
    "    S_i^{\\beta} S_j^{\\alpha}\n",
    "\\right|\n",
    "    \\psi_n^{\\rm rand}\n",
    "\\right\\rangle\n",
    "e^{-i.(\\mathbf{R}_i-\\mathbf{R}_j)}$\n",
    "\n",
    "The two expectation values are both real but in general they are different, and therefore the imaginary parts of the two exponentials do not cancel. For $\\alpha=\\beta$, they do."
   ]
  },
  {
   "cell_type": "markdown",
   "metadata": {},
   "source": [
    "```Sijs``` contains the values of real-space correlators, for instance ```Sijs[3]['Sxz'][0][1]``` is the value of the $xz$ correlator betweent the 1st site and the 2nd site in the 3rd random state, \n",
    "$\\left\\langle \n",
    "    \\psi_3^{\\rm rand} \n",
    "    \\left| \n",
    "        S_0^{x} S_1^{z} \n",
    "    \\right|\n",
    "    \\psi_3^{\\rm rand}\n",
    "\\right\\rangle$:"
   ]
  },
  {
   "cell_type": "code",
   "execution_count": null,
   "metadata": {},
   "outputs": [],
   "source": [
    "Sijs = STABILITY_ANALYSIS.Sijs\n",
    "Sijs[3]['Sxz'][0][1]"
   ]
  },
  {
   "cell_type": "markdown",
   "metadata": {},
   "source": [
    "```Sqints``` contains the diffuse magnetic neutron scattering functions for each fo the random ground states, computed by combining the individual spin-resolved functions $\\mathcal{S}_{\\alpha,\\beta}\\left(\\mathbf{q}\\right)$ using the formula (up to a normalisation factor)\n",
    "\n",
    "$    \\mathcal{S}(\\mathbf{q})\n",
    "    =\n",
    "    \\sum_{\\alpha.\\beta}\n",
    "    \\left(\n",
    "        \\delta_{\\alpha,\\beta}-\\hat{\\mathbf{q}}_{\\alpha}\\hat{\\mathbf{q}}_{\\beta}\n",
    "    \\right)\n",
    "    \\mathcal{S}_{\\alpha,\\beta}(\\mathbf{q}).$\n",
    "    \n",
    "Thus for instance ```Sqints[2][10][35]``` is the value of $\\mathcal{S}\\left(\\mathbf{q}\\right)$ for the 3rd random state (remember that random states are numbers $n=0,1,2,3,\\ldots$) evaluated at the 10th values of $q_x$ and the 35th value of $q_y$:"
   ]
  },
  {
   "cell_type": "code",
   "execution_count": null,
   "metadata": {
    "scrolled": true
   },
   "outputs": [],
   "source": [
    "Sqints = STABILITY_ANALYSIS.Sqints\n",
    "Sqints[2][10][35]"
   ]
  },
  {
   "cell_type": "markdown",
   "metadata": {},
   "source": [
    "Finally, we can calculate the distance between the scattering functions $S'\\left(\\mathbf{q}\\right)$ of a random state and its value $S'\\left(\\mathbf{q}\\right)$ for the ground state of the reference Hamiltonian, evaluated using \n",
    "\n",
    "$    \\Delta \\mathcal{S}=\\Delta \\mathcal{S}[\\mathcal{S}, \\mathcal{S}'] = \n",
    "    \\frac{1}{\\mathcal{N}}\n",
    "    \\left\\lbrace \n",
    "        \\int d\\mathbf{q} {\\left[\\mathcal{S}(\\mathbf{q}) - \\mathcal{S}'(\\mathbf{q})\\right]}^2\n",
    "    \\right\\rbrace^{1/2}.$\n",
    "\n",
    "With a normalization factor being\n",
    "\n",
    "$\\mathcal{N} = \n",
    "    {\\left\\lbrace\n",
    "        \\int d\\mathbf{q} {\\left[\\mathcal{S}(\\mathbf{q}) - \\bar{\\mathcal{S}}\\right]}^2\n",
    "    \\right\\rbrace}^{1/2}$\n",
    "\n",
    "To get differences that are properly normalised, we can use ```return_normalized_diffSqint```:"
   ]
  },
  {
   "cell_type": "code",
   "execution_count": null,
   "metadata": {},
   "outputs": [],
   "source": [
    "Sq_int = STABILITY_ANALYSIS.return_normalized_diffSqint()\n",
    "Sq_int"
   ]
  },
  {
   "cell_type": "markdown",
   "metadata": {},
   "source": [
    "We can see that there is a correlation between how close the scattering functions were and how close the states were: "
   ]
  },
  {
   "cell_type": "code",
   "execution_count": null,
   "metadata": {},
   "outputs": [],
   "source": [
    "fig, ax = plt.subplots()\n",
    "\n",
    "scale = 20 # size of dots\n",
    "\n",
    "x, y = dist,Sq_int  \n",
    "ax.scatter(x, y, c='blue', s=scale, label='A plot',alpha=1.0, edgecolors='none')\n",
    "\n",
    "min_x=min(x)\n",
    "max_x=max(x)\n",
    "del_x=max_x-min_x\n",
    "min_y=min(y)\n",
    "max_y=max(y)\n",
    "del_y=max_y-min_y\n",
    "\n",
    "plt.xlim(min_x-0.2*del_x,max_x+0.2*del_x)\n",
    "plt.ylim(min_y-0.2*del_y,max_y+0.2*del_y)\n",
    "#ax.legend('sss') \n",
    "\n",
    "ax.grid(False) # True = grid displayed ; False = no grid displayed\n",
    "\n",
    "ax.set_aspect(del_x/del_y) # Makes aspect ratio 1:1\n",
    "\n",
    "ax.axhline(y=0, linewidth=0.5,color='k')\n",
    "ax.axvline(x=0, linewidth=0.5,color='k')\n",
    "\n",
    "plt.savefig('filename.png', dpi=300) # Export hires figure\n",
    "\n",
    "plt.show()"
   ]
  },
  {
   "cell_type": "markdown",
   "metadata": {},
   "source": [
    "We can see that there's a linear correlation with the scaling coefficient close to 1."
   ]
  },
  {
   "cell_type": "markdown",
   "metadata": {},
   "source": [
    "It is illustrative to display the $\\mathcal{S}(\\mathbf{q})$ for some of the random states (left figures) and compare it to the target scattering function (right figures):"
   ]
  },
  {
   "cell_type": "code",
   "execution_count": null,
   "metadata": {},
   "outputs": [],
   "source": [
    "for n in range(10):\n",
    "    print(n,\"th random state, dist=\",dist[n],\"Sq_int=\",Sq_int[n],\":\")\n",
    "    fig, axs = plt.subplots(1, 2)\n",
    "    axs[0].imshow(Sqints[n])\n",
    "    axs[1].imshow(STABILITY_ANALYSIS.Sq_int_in)\n",
    "    plt.show()"
   ]
  },
  {
   "cell_type": "markdown",
   "metadata": {},
   "source": [
    "Looking at those figures we confirm what is shown in the linear correlation above. The closer the state is to the target state, its scattering funciton more closely resembles the target scattering function."
   ]
  }
 ],
 "metadata": {
  "kernelspec": {
   "display_name": "Python 3 (ipykernel)",
   "language": "python",
   "name": "python3"
  },
  "language_info": {
   "codemirror_mode": {
    "name": "ipython",
    "version": 3
   },
   "file_extension": ".py",
   "mimetype": "text/x-python",
   "name": "python",
   "nbconvert_exporter": "python",
   "pygments_lexer": "ipython3",
   "version": "3.10.0"
  }
 },
 "nbformat": 4,
 "nbformat_minor": 4
}
