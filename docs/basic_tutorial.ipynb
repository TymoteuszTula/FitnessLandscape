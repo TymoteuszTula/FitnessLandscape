{
 "cells": [
  {
   "cell_type": "markdown",
   "metadata": {},
   "source": [
    "# Using CorrelationConnection"
   ]
  },
  {
   "cell_type": "markdown",
   "metadata": {},
   "source": [
    "First, follow the instructions on README.md to install and activate the right Conda enviornment. Once that has been done, you can launch this Jupyter Notebook. "
   ]
  },
  {
   "cell_type": "markdown",
   "metadata": {},
   "source": [
    "Load necessary libraries:"
   ]
  },
  {
   "cell_type": "code",
   "execution_count": 1,
   "metadata": {},
   "outputs": [],
   "source": [
    "import pickle\n",
    "import sys\n",
    "sys.path.append(\"./bin/\")\n",
    "sys.path.append(\".\")\n",
    "import numpy as np\n",
    "import matplotlib.pyplot as plt\n",
    "from matplotlib.lines import Line2D"
   ]
  },
  {
   "cell_type": "markdown",
   "metadata": {},
   "source": [
    "Tell your system where it can find executables:"
   ]
  },
  {
   "cell_type": "code",
   "execution_count": 2,
   "metadata": {},
   "outputs": [],
   "source": [
    "sys.path.append(\"../../CorrelationConnection/bin/\")"
   ]
  },
  {
   "cell_type": "markdown",
   "metadata": {},
   "source": [
    "The line above may change depending on your working directory. The exact way it is written above works if your working directory is a subfolder of ```CorrelationConnection``` (e.g. ```CorrelationConnection/docs```) and ```CorrelationConnection``` contains another sub-folder called ```bin``` containing the files ```exact_diagonalisation_code.py```, ```exact_diagonalisation_code_sparse.py```, etc."
   ]
  },
  {
   "cell_type": "markdown",
   "metadata": {},
   "source": [
    "Import some more libraries:"
   ]
  },
  {
   "cell_type": "code",
   "execution_count": 3,
   "metadata": {},
   "outputs": [],
   "source": [
    "import scipy \n",
    "import scipy.sparse.linalg as sprsla\n",
    "from hamiltonians import NNHamiltonian\n",
    "from randomizer import RandomizerHamiltonianNNRandomDelta, RandomizerStateRandomDelta\n",
    "from stability_analysis_class import StabilityAnalysisSparse\n",
    "from tools import SijCalculator\n",
    "from exact_diagonalisation_code_sparse import create_sx_sparse, create_sy_sparse, create_sz_sparse\n",
    "from math import sqrt, pi"
   ]
  },
  {
   "cell_type": "markdown",
   "metadata": {},
   "source": [
    "Let's now get started. "
   ]
  },
  {
   "cell_type": "markdown",
   "metadata": {},
   "source": [
    "To begin, we will create a Hamiltonian object for ```L``` sites with interactions up to next nearest neighbours at temperature ```temp=0```. This is achieved with the class ```NNHamiltonian(L, h, J_onsite, J_nn, J_nnn, temp=0)```. To keep things simple we will make the system a dimer and we will not apply a magnetic field: "
   ]
  },
  {
   "cell_type": "code",
   "execution_count": 4,
   "metadata": {},
   "outputs": [],
   "source": [
    "# 1) SET VALUES FOR INPUTS:\n",
    "\n",
    "L=2                                        # <-- Dimer\n",
    "h = [[0, 0, 0]]                            # <-- No applied field\n",
    "J_onsite = np.zeros((3, 3))                # <-- No onsite interactions (superfluous anyway)\n",
    "J_nnn = np.zeros((3, 3))                   # <-- No nnn interactions\n",
    "J_nn = [[1, 0, 0], [0, 1, 0], [0, 0, 1]]   # <-- Diagonal nn interactions\n",
    "\n",
    "# 2) CREATE THE HAMILTONIAN: \n",
    "\n",
    "HAMILTONIAN = NNHamiltonian(L, h, J_onsite, J_nn, J_nnn, temp=0)"
   ]
  },
  {
   "cell_type": "markdown",
   "metadata": {},
   "source": [
    "```NNHamiltonian(L, h, J_onsite, J_nn, J_nnn, temp=0)``` is one of three classes of Hamiltonians.  The others can be found in ```bin/hamiltonians.py```. \n",
    "\n",
    "Note that the object is not just the Hamiltonian. It includes the temperature as well. The Hamiltonian itself can be extracted using ```get_init_ham()```:"
   ]
  },
  {
   "cell_type": "code",
   "execution_count": 5,
   "metadata": {},
   "outputs": [],
   "source": [
    "H=HAMILTONIAN.get_init_ham()"
   ]
  },
  {
   "cell_type": "markdown",
   "metadata": {},
   "source": [
    "The Hamiltonian ```H``` is not an array, it is a sparse matrix object (from ```scipy.sparse```). Therefore, only the matrix elements that are non zero are stored. If we try to print ```H``` we will get a list of its non-zero elements:"
   ]
  },
  {
   "cell_type": "code",
   "execution_count": 6,
   "metadata": {},
   "outputs": [
    {
     "name": "stdout",
     "output_type": "stream",
     "text": [
      "  (0, 0)\t(0.5+0j)\n",
      "  (1, 1)\t(-0.5+0j)\n",
      "  (1, 2)\t(1+0j)\n",
      "  (2, 1)\t(1+0j)\n",
      "  (2, 2)\t(-0.5+0j)\n",
      "  (3, 3)\t(0.5+0j)\n"
     ]
    }
   ],
   "source": [
    "print(H)"
   ]
  },
  {
   "cell_type": "markdown",
   "metadata": {},
   "source": [
    "Note the factor of \"2\" in the definition of the Hamilonian."
   ]
  },
  {
   "cell_type": "markdown",
   "metadata": {},
   "source": [
    "Let us now find the ground-state energy and state vector:"
   ]
  },
  {
   "cell_type": "code",
   "execution_count": 7,
   "metadata": {},
   "outputs": [
    {
     "name": "stdout",
     "output_type": "stream",
     "text": [
      "Ground state energy =  [-1.5] \n",
      "Ground state vector = \n",
      " [[-0.  -0.j  ]\n",
      " [ 0.36-0.61j]\n",
      " [-0.36+0.61j]\n",
      " [-0.  +0.j  ]]\n"
     ]
    }
   ],
   "source": [
    "GROUND_STATE=SijCalculator.find_gs_sparse(H)\n",
    "print(\"Ground state energy = \",GROUND_STATE[0],\"\\nGround state vector = \\n\",np.round(GROUND_STATE[1],2))"
   ]
  },
  {
   "cell_type": "markdown",
   "metadata": {},
   "source": [
    "Note that we have used np.round to write the grounds state with only 2 decimal points for clarity."
   ]
  },
  {
   "cell_type": "markdown",
   "metadata": {},
   "source": [
    "We can also work with a dense-matrix representation:"
   ]
  },
  {
   "cell_type": "code",
   "execution_count": 8,
   "metadata": {},
   "outputs": [],
   "source": [
    "H_DENSE=H.todense()"
   ]
  },
  {
   "cell_type": "code",
   "execution_count": 9,
   "metadata": {},
   "outputs": [
    {
     "name": "stdout",
     "output_type": "stream",
     "text": [
      "[[ 0.5+0.j  0. +0.j  0. +0.j  0. +0.j]\n",
      " [ 0. +0.j -0.5+0.j  1. +0.j  0. +0.j]\n",
      " [ 0. +0.j  1. +0.j -0.5+0.j  0. +0.j]\n",
      " [ 0. +0.j  0. +0.j  0. +0.j  0.5+0.j]]\n"
     ]
    }
   ],
   "source": [
    "print(H_DENSE)"
   ]
  },
  {
   "cell_type": "markdown",
   "metadata": {},
   "source": [
    "```find_eigvals``` can now be used to find all the energies:"
   ]
  },
  {
   "cell_type": "code",
   "execution_count": 10,
   "metadata": {},
   "outputs": [],
   "source": [
    "ENERGIES = SijCalculator.find_eigvals(H_DENSE)"
   ]
  },
  {
   "cell_type": "code",
   "execution_count": 11,
   "metadata": {},
   "outputs": [
    {
     "name": "stdout",
     "output_type": "stream",
     "text": [
      "[ 0.5+0.j -1.5+0.j  0.5+0.j  0.5+0.j]\n"
     ]
    }
   ],
   "source": [
    "print(ENERGIES)"
   ]
  },
  {
   "cell_type": "markdown",
   "metadata": {},
   "source": [
    "Now we can carry out the fitness landscape analysis. \n",
    "\n",
    "In order to do this we need to set a few parameters that specifiy the type of fitness landscape we want to explore and how.\n",
    "\n",
    "First, we need to set up a randomizer. There are several available, they are all in ```randomizer.py```. Here we use ```RandomizerStateRandomDelta``` which creates random state vectors the real and imaginary parts of whose amplitudes are picked from a flat probability distribution centred on those of a given input state. "
   ]
  },
  {
   "cell_type": "code",
   "execution_count": 12,
   "metadata": {},
   "outputs": [],
   "source": [
    "delta= 0.5\n",
    "no_of_processes= 64 \n",
    "RANDOMIZER = RandomizerStateRandomDelta(HAMILTONIAN, delta, no_of_processes)"
   ]
  },
  {
   "cell_type": "markdown",
   "metadata": {},
   "source": [
    "Now, set up our exploration of the fitness landscape using ```StabilityAnalysisSparse``` from ```stability_analysis_class.py```: "
   ]
  },
  {
   "cell_type": "code",
   "execution_count": 13,
   "metadata": {},
   "outputs": [],
   "source": [
    "corr = [\"Sxx\", \"Sxy\", \"Sxz\", \"Syx\", \"Syy\", \"Syz\", \"Szx\", \"Szy\", \"Szz\"]\n",
    "temp= HAMILTONIAN.temp  # <-- Obtain temperature from the Hamiltonian setup\n",
    "save_rhams= \"False\"     # <-- Do not save random Hamiltonians/states\n",
    "temp_type= \"value\"      # <-- Temperature given explicitly"
   ]
  },
  {
   "cell_type": "code",
   "execution_count": 14,
   "metadata": {},
   "outputs": [],
   "source": [
    "STABILITY_ANALYSIS = StabilityAnalysisSparse(HAMILTONIAN, RANDOMIZER, corr, save_rhams,temp_mul=temp, temp_type=temp_type)"
   ]
  },
  {
   "cell_type": "markdown",
   "metadata": {},
   "source": [
    "Finally, we generate the data by using ```generate_random_Sij_sparse``` which is found in ```stability_analysis_class.py```:"
   ]
  },
  {
   "cell_type": "code",
   "execution_count": 15,
   "metadata": {},
   "outputs": [],
   "source": [
    "no_of_samples= 5\n",
    "dist, en, diffSij, diffSq, Sqs, Sijs, Sqints, Sq_int=EXAMPLE=STABILITY_ANALYSIS.generate_random_Sij_sparse(no_of_samples)"
   ]
  },
  {
   "cell_type": "markdown",
   "metadata": {},
   "source": [
    "The output is a list of 8 objects so instead of storing it in a single variable we have directly stored it in 8 conevniently-named variables. Let us now see what each of them contains."
   ]
  },
  {
   "cell_type": "markdown",
   "metadata": {},
   "source": [
    "```dist``` contains the distances of the random states to the ground state of the reference Hamiltonian:"
   ]
  },
  {
   "cell_type": "code",
   "execution_count": 154,
   "metadata": {
    "scrolled": true
   },
   "outputs": [
    {
     "data": {
      "text/plain": [
       "[0.0016824121457618135,\n",
       " 0.00029454398505979196,\n",
       " 0.016930044619712148,\n",
       " 0.03324221366399849,\n",
       " 0.12442835046299772]"
      ]
     },
     "execution_count": 154,
     "metadata": {},
     "output_type": "execute_result"
    }
   ],
   "source": [
    "dist"
   ]
  },
  {
   "cell_type": "markdown",
   "metadata": {},
   "source": [
    "```en``` contains the corresponding ground state energies:"
   ]
  },
  {
   "cell_type": "code",
   "execution_count": 155,
   "metadata": {},
   "outputs": [
    {
     "name": "stdout",
     "output_type": "stream",
     "text": [
      "[array([0.00336482+0.j]), array([0.00058909+0.j]), array([0.03386009+0.j]), array([0.06648443-1.11022302e-16j]), array([0.2488567+0.j])]\n"
     ]
    }
   ],
   "source": [
    "print(en)"
   ]
  },
  {
   "cell_type": "markdown",
   "metadata": {},
   "source": [
    "```diffSij``` contains the distances between real-space correlators:"
   ]
  },
  {
   "cell_type": "code",
   "execution_count": 156,
   "metadata": {},
   "outputs": [
    {
     "data": {
      "text/plain": [
       "[0.002278734315252842,\n",
       " 0.0009534602108327649,\n",
       " 0.00722863916203547,\n",
       " 0.010129137420771941,\n",
       " 0.019596890536841664]"
      ]
     },
     "execution_count": 156,
     "metadata": {},
     "output_type": "execute_result"
    }
   ],
   "source": [
    "diffSij"
   ]
  },
  {
   "cell_type": "markdown",
   "metadata": {},
   "source": [
    "```Sqs``` contains the reciprocal space expressions of all the random correlators, computed on a $100 \\times 100$ grid in $\\mathbf{q}$-space. To be more explicit, let \n",
    "\n",
    "$\\rho_{i,j}^{\\alpha,\\beta}\\left[\\psi_n^{\\rm rand}\\right] \n",
    "\\equiv \n",
    "\\left\\langle \n",
    "    \\psi_n^{\\rm rand} \n",
    "    \\left| \n",
    "        S_i^{\\alpha} S_j^{\\beta} \n",
    "    \\right|\n",
    "    \\psi_n^{\\rm rand}\n",
    "\\right\\rangle$ \n",
    "\n",
    "represent the correlator between the component $\\alpha$ of the spin at site $i$ and the component $\\beta$ of the spin at site $j$ ($\\alpha,\\beta=x,y,z$; $i,j=0,1,\\ldots,L-1$). We define the reciprocal of this quantity as \n",
    "\n",
    "$\\tilde{\\rho}^{\\alpha,\\beta}\\left[\\psi_n^{\\rm rand}\\right] (\\mathbf{q})\n",
    "\\equiv \n",
    "\\sum_{i,j=0}^{L-1}e^{i\\mathbf{q}.(\\mathbf{R}_i-\\mathbf{R}_j)}\\rho_{i,j}^{\\alpha,\\beta}\\left[\\psi_n^{\\rm rand}\\right] $\n",
    "\n",
    "Note that this is not the same as a Fourier transform, as the quantity $\\rho_{i,j}^{\\alpha,\\beta}\\left[\\psi_n^{\\rm rand}\\right]$ does not depend only on $\\mathbf{R}_i-\\mathbf{R}_j$ but in general depends on $\\mathbf{R}_i$ and $\\mathbf{R}_j$ independently. Indeed, this will be the case for a magnetic molecule sitting somewhere in space, since the structure is not periodic in this case. For the same reason, the vector $\\mathbf{q}$ is not restricted to a discretised lattice. It represents the momentum transferred between the sample and the neutron, which can vary continuously. In the code we discretise the values of the two-dimensional vactor $\\mathbf{q}=(q_x,q_y)$ by allowing 100 values of $q_x$ and 100 values of $q_y$, each uniformly distributed between $-2\\pi$ and $+2\\pi$ (giving 10000 values of the wave vector $\\mathbf{q}$ in total).\n",
    "\n",
    "**TO DO: Generalise this, it should be possible to change how fine the q-grid is and also to extend the q values further out e.g. to $3\\pi$ or focus on a smaller part of q-space, e.g. if we are looking at a big molecule there will be lots of detail at small q.**"
   ]
  },
  {
   "cell_type": "markdown",
   "metadata": {},
   "source": [
    "The structure of ```Sqs``` is best illustrated through a couple of  examples. For instance, in our case, \n",
    "\n",
    "```Sqs[3][\"Sxy\"][23][76]``` \n",
    "\n",
    "contains the value of $\\tilde{\\rho}^{x,y}\\left[\\psi_3^{\\rm rand}\\right] (\\mathbf{q})$ at a wave vector $\\mathbf{q}$ given by the coordinates $(23,76)$ on our discretised reciproclal grid:"
   ]
  },
  {
   "cell_type": "code",
   "execution_count": 167,
   "metadata": {},
   "outputs": [
    {
     "name": "stdout",
     "output_type": "stream",
     "text": [
      "(-0.005867325933629966-0.0045669562629151j)\n"
     ]
    }
   ],
   "source": [
    "print(Sqs[3][\"Sxy\"][23][76])"
   ]
  },
  {
   "cell_type": "markdown",
   "metadata": {},
   "source": [
    "Similarly \n",
    "\n",
    "```Sqs[2][\"Syy\"][10][35]``` \n",
    "\n",
    "contains the value of $\\tilde{\\rho}^{y,y}\\left[\\psi_2^{\\rm rand}\\right] (\\mathbf{q})$ at a wave vector $\\mathbf{q}$ given by the coordinates $(10,35)$:"
   ]
  },
  {
   "cell_type": "code",
   "execution_count": 168,
   "metadata": {},
   "outputs": [
    {
     "name": "stdout",
     "output_type": "stream",
     "text": [
      "(0.18493480478284136+0j)\n"
     ]
    }
   ],
   "source": [
    "print(Sqs[2][\"Syy\"][10][35])"
   ]
  },
  {
   "cell_type": "markdown",
   "metadata": {},
   "source": [
    "Note that the $xy$ correlator is a complex number, while the $yy$ correlator is real. This makes sense: $\\tilde{\\rho}^{x,y}\\left[\\psi_3^{\\rm rand}\\right]$ is not the expectation value of a Hermitian operator, and in general the sum over $i$ and $j$ will have terms of the form \n",
    "\n",
    "$\\langle \n",
    "    S_i^{\\alpha} S_j^{\\beta}\n",
    "\\rangle\n",
    "e^{i.(\\mathbf{R}_i-\\mathbf{R}_j)}\n",
    "+\n",
    "\\langle\n",
    "    S_i^{\\beta} S_j^{\\alpha}\n",
    "\\rangle\n",
    "e^{-i.(\\mathbf{R}_i-\\mathbf{R}_j)}$\n",
    "\n",
    "The two expectation values are both real but in general they are different, and therefore the imaginary parts of the two exponentials do not cancel. For $\\alpha=\\beta$, they do."
   ]
  },
  {
   "cell_type": "markdown",
   "metadata": {},
   "source": [
    "```Sijs``` contains the values of real-space correlators, for instance ```Sijs[3]['Sxz'][0][1]``` is the value of the $xz$ correlator betweent the 1st site and the 2nd site in the 3rd random state, \n",
    "$\\left\\langle \n",
    "    \\psi_3^{\\rm rand} \n",
    "    \\left| \n",
    "        S_0^{x} S_1^{z} \n",
    "    \\right|\n",
    "    \\psi_3^{\\rm rand}\n",
    "\\right\\rangle$:"
   ]
  },
  {
   "cell_type": "code",
   "execution_count": 170,
   "metadata": {},
   "outputs": [
    {
     "data": {
      "text/plain": [
       "(-0.031917074874466+0j)"
      ]
     },
     "execution_count": 170,
     "metadata": {},
     "output_type": "execute_result"
    }
   ],
   "source": [
    "Sijs[3]['Sxz'][0][1]"
   ]
  },
  {
   "cell_type": "markdown",
   "metadata": {},
   "source": [
    "Sinally, ```Sqints``` and ```Sq_int```:"
   ]
  },
  {
   "cell_type": "code",
   "execution_count": 193,
   "metadata": {
    "scrolled": true
   },
   "outputs": [
    {
     "name": "stdout",
     "output_type": "stream",
     "text": [
      "Dimensions of Sqints: 5 100 100\n"
     ]
    }
   ],
   "source": [
    "print(\"Dimensions of Sqints:\",len(Sqints),len(Sqints[0]),len(Sqints[0][0]))"
   ]
  },
  {
   "cell_type": "code",
   "execution_count": 190,
   "metadata": {},
   "outputs": [
    {
     "data": {
      "text/plain": [
       "0.4767306353738547"
      ]
     },
     "execution_count": 190,
     "metadata": {},
     "output_type": "execute_result"
    }
   ],
   "source": [
    "Sqints[4][99][99]"
   ]
  },
  {
   "cell_type": "code",
   "execution_count": 194,
   "metadata": {},
   "outputs": [
    {
     "data": {
      "text/plain": [
       "[0.00020491065213567046,\n",
       " 8.032773536748678e-06,\n",
       " 0.060670416995147844,\n",
       " 0.26579703465365156,\n",
       " 1.1449728311755316]"
      ]
     },
     "execution_count": 194,
     "metadata": {},
     "output_type": "execute_result"
    }
   ],
   "source": [
    "Sq_int"
   ]
  }
 ],
 "metadata": {
  "kernelspec": {
   "display_name": "Python 3",
   "language": "python",
   "name": "python3"
  },
  "language_info": {
   "codemirror_mode": {
    "name": "ipython",
    "version": 3
   },
   "file_extension": ".py",
   "mimetype": "text/x-python",
   "name": "python",
   "nbconvert_exporter": "python",
   "pygments_lexer": "ipython3",
   "version": "3.8.10"
  }
 },
 "nbformat": 4,
 "nbformat_minor": 4
}
