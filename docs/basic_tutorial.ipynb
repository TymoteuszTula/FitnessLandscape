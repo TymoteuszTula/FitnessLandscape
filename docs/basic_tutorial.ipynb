{
 "cells": [
  {
   "cell_type": "markdown",
   "metadata": {},
   "source": [
    "# Using CorrelationConnection"
   ]
  },
  {
   "cell_type": "markdown",
   "metadata": {},
   "source": [
    "## Preliminaries"
   ]
  },
  {
   "cell_type": "markdown",
   "metadata": {},
   "source": [
    "First of all, follow the instructions on README.md to install the software and activate the right Conda enviornment. Once that has been done, you can launch this Jupyter Notebook. "
   ]
  },
  {
   "cell_type": "markdown",
   "metadata": {},
   "source": [
    "Load necessary libraries:"
   ]
  },
  {
   "cell_type": "code",
   "execution_count": 1,
   "metadata": {},
   "outputs": [],
   "source": [
    "import pickle\n",
    "import sys\n",
    "sys.path.append(\"./bin/\")\n",
    "sys.path.append(\".\")\n",
    "import numpy as np\n",
    "import matplotlib.pyplot as plt\n",
    "from matplotlib.lines import Line2D"
   ]
  },
  {
   "cell_type": "markdown",
   "metadata": {},
   "source": [
    "Tell your system where it can find executables:"
   ]
  },
  {
   "cell_type": "code",
   "execution_count": 2,
   "metadata": {},
   "outputs": [],
   "source": [
    "sys.path.append(\"../../CorrelationConnection/bin/\")"
   ]
  },
  {
   "cell_type": "markdown",
   "metadata": {},
   "source": [
    "The line above may change depending on your working directory. The exact way it is written above works if your working directory is a subfolder of ```CorrelationConnection``` (e.g. ```CorrelationConnection/docs```) and ```CorrelationConnection``` contains another sub-folder called ```bin``` containing the files ```exact_diagonalisation_code.py```, ```exact_diagonalisation_code_sparse.py```, etc."
   ]
  },
  {
   "cell_type": "markdown",
   "metadata": {},
   "source": [
    "Import some more libraries:"
   ]
  },
  {
   "cell_type": "code",
   "execution_count": 3,
   "metadata": {},
   "outputs": [],
   "source": [
    "import scipy \n",
    "import scipy.sparse.linalg as sprsla\n",
    "from hamiltonians import NNHamiltonian\n",
    "from randomizer import RandomizerHamiltonianNNRandomDelta, RandomizerStateRandomDelta\n",
    "from stability_analysis_class import StabilityAnalysisSparse\n",
    "from tools import SijCalculator\n",
    "from exact_diagonalisation_code_sparse import create_sx_sparse, create_sy_sparse, create_sz_sparse\n",
    "from math import sqrt, pi"
   ]
  },
  {
   "cell_type": "markdown",
   "metadata": {},
   "source": [
    "## Generating data"
   ]
  },
  {
   "cell_type": "markdown",
   "metadata": {},
   "source": [
    "Let's now get started with the generation of some data from scratch. We will focus on quantum tomography in the ground state as an example.\n",
    "\n",
    "**TO DO:**\n",
    "* **We must include in this tutorial Hamiltonian learning \n",
    "examples as well, and also finite-temperature examples of both.**"
   ]
  },
  {
   "cell_type": "markdown",
   "metadata": {},
   "source": [
    "### Creating a Hamiltonian"
   ]
  },
  {
   "cell_type": "markdown",
   "metadata": {},
   "source": [
    "To begin, we will create a Hamiltonian object for ```L``` sites with interactions up to next nearest neighbours at temperature ```temp=0```. This is achieved with the class ```NNHamiltonian(L, h, J_onsite, J_nn, J_nnn, temp=0)```. To keep things simple we will make the system a dimer and we will not apply a magnetic field: "
   ]
  },
  {
   "cell_type": "code",
   "execution_count": 4,
   "metadata": {},
   "outputs": [],
   "source": [
    "# 1) SET VALUES FOR INPUTS:\n",
    "\n",
    "L=2                                        # <-- Dimer\n",
    "h = [[0, 0, 0]]                            # <-- No applied field\n",
    "J_onsite = np.zeros((3, 3))                # <-- No onsite interactions (superfluous anyway)\n",
    "J_nnn = np.zeros((3, 3))                   # <-- No nnn interactions\n",
    "J_nn = [[1, 0, 0], [0, 1, 0], [0, 0, 1]]   # <-- Diagonal nn interactions\n",
    "\n",
    "# 2) CREATE THE HAMILTONIAN: \n",
    "\n",
    "HAMILTONIAN = NNHamiltonian(L, h, J_onsite, J_nn, J_nnn, temp=0)"
   ]
  },
  {
   "cell_type": "markdown",
   "metadata": {},
   "source": [
    "```NNHamiltonian(L, h, J_onsite, J_nn, J_nnn, temp=0)``` is one of three classes of Hamiltonians.  The others can be found in ```bin/hamiltonians.py```. \n",
    "\n",
    "Note that the object is not just the Hamiltonian. It includes the temperature as well. The Hamiltonian itself can be extracted using ```get_init_ham()```:"
   ]
  },
  {
   "cell_type": "code",
   "execution_count": 5,
   "metadata": {},
   "outputs": [],
   "source": [
    "H=HAMILTONIAN.get_init_ham()"
   ]
  },
  {
   "cell_type": "markdown",
   "metadata": {},
   "source": [
    "The Hamiltonian ```H``` is not an array, it is a sparse matrix object (from ```scipy.sparse```). Therefore, only the matrix elements that are non zero are stored. If we try to print ```H``` we will get a list of its non-zero elements:"
   ]
  },
  {
   "cell_type": "code",
   "execution_count": 6,
   "metadata": {},
   "outputs": [
    {
     "name": "stdout",
     "output_type": "stream",
     "text": [
      "  (0, 0)\t(0.5+0j)\n",
      "  (1, 1)\t(-0.5+0j)\n",
      "  (1, 2)\t(1+0j)\n",
      "  (2, 1)\t(1+0j)\n",
      "  (2, 2)\t(-0.5+0j)\n",
      "  (3, 3)\t(0.5+0j)\n"
     ]
    }
   ],
   "source": [
    "print(H)"
   ]
  },
  {
   "cell_type": "markdown",
   "metadata": {},
   "source": [
    "Note the factor of \"2\" in the definition of the Hamilonian."
   ]
  },
  {
   "cell_type": "markdown",
   "metadata": {},
   "source": [
    "Let us now find the ground-state energy and state vector:"
   ]
  },
  {
   "cell_type": "code",
   "execution_count": 7,
   "metadata": {},
   "outputs": [
    {
     "name": "stdout",
     "output_type": "stream",
     "text": [
      "Ground state energy =  [-1.5] \n",
      "Ground state vector = \n",
      " [[-0.  -0.j  ]\n",
      " [ 0.36-0.61j]\n",
      " [-0.36+0.61j]\n",
      " [-0.  +0.j  ]]\n"
     ]
    }
   ],
   "source": [
    "GROUND_STATE=SijCalculator.find_gs_sparse(H)\n",
    "print(\"Ground state energy = \",GROUND_STATE[0],\"\\nGround state vector = \\n\",np.round(GROUND_STATE[1],2))"
   ]
  },
  {
   "cell_type": "markdown",
   "metadata": {},
   "source": [
    "Note that we have used np.round to write the grounds state with only 2 decimal points for clarity."
   ]
  },
  {
   "cell_type": "markdown",
   "metadata": {},
   "source": [
    "We can also work with a dense-matrix representation:"
   ]
  },
  {
   "cell_type": "code",
   "execution_count": 8,
   "metadata": {},
   "outputs": [],
   "source": [
    "H_DENSE=H.todense()"
   ]
  },
  {
   "cell_type": "code",
   "execution_count": 9,
   "metadata": {},
   "outputs": [
    {
     "name": "stdout",
     "output_type": "stream",
     "text": [
      "[[ 0.5+0.j  0. +0.j  0. +0.j  0. +0.j]\n",
      " [ 0. +0.j -0.5+0.j  1. +0.j  0. +0.j]\n",
      " [ 0. +0.j  1. +0.j -0.5+0.j  0. +0.j]\n",
      " [ 0. +0.j  0. +0.j  0. +0.j  0.5+0.j]]\n"
     ]
    }
   ],
   "source": [
    "print(H_DENSE)"
   ]
  },
  {
   "cell_type": "markdown",
   "metadata": {},
   "source": [
    "```find_eigvals``` can now be used to find all the energies:"
   ]
  },
  {
   "cell_type": "code",
   "execution_count": 10,
   "metadata": {},
   "outputs": [],
   "source": [
    "ENERGIES = SijCalculator.find_eigvals(H_DENSE)"
   ]
  },
  {
   "cell_type": "code",
   "execution_count": 11,
   "metadata": {},
   "outputs": [
    {
     "name": "stdout",
     "output_type": "stream",
     "text": [
      "[ 0.5+0.j -1.5+0.j  0.5+0.j  0.5+0.j]\n"
     ]
    }
   ],
   "source": [
    "print(ENERGIES)"
   ]
  },
  {
   "cell_type": "markdown",
   "metadata": {},
   "source": [
    "### Generating fitness landscape data"
   ]
  },
  {
   "cell_type": "markdown",
   "metadata": {},
   "source": [
    "Now we can carry out the fitness landscape analysis. \n",
    "\n",
    "In order to do this we need to set a few parameters that specifiy the type of fitness landscape we want to explore and how.\n",
    "\n",
    "First, we need to set up a randomizer. There are several available, they are all in ```randomizer.py```. Here we use ```RandomizerStateRandomDelta``` which creates random state vectors the real and imaginary parts of whose amplitudes are picked from a flat probability distribution centred on those of a given input state. "
   ]
  },
  {
   "cell_type": "code",
   "execution_count": 87,
   "metadata": {},
   "outputs": [],
   "source": [
    "delta= 0.5\n",
    "no_of_processes= 64 \n",
    "RANDOMIZER = RandomizerStateRandomDelta(HAMILTONIAN, delta, no_of_processes)"
   ]
  },
  {
   "cell_type": "markdown",
   "metadata": {},
   "source": [
    "Now, set up our exploration of the fitness landscape using ```StabilityAnalysisSparse``` from ```stability_analysis_class.py```: "
   ]
  },
  {
   "cell_type": "code",
   "execution_count": 88,
   "metadata": {},
   "outputs": [],
   "source": [
    "corr = [\"Sxx\", \"Sxy\", \"Sxz\", \"Syx\", \"Syy\", \"Syz\", \"Szx\", \"Szy\", \"Szz\"]\n",
    "temp= HAMILTONIAN.temp  # <-- Obtain temperature from the Hamiltonian setup\n",
    "save_rhams= \"False\"     # <-- Do not save random Hamiltonians/states\n",
    "temp_type= \"value\"      # <-- Temperature given explicitly"
   ]
  },
  {
   "cell_type": "code",
   "execution_count": 89,
   "metadata": {},
   "outputs": [],
   "source": [
    "STABILITY_ANALYSIS = StabilityAnalysisSparse(HAMILTONIAN, RANDOMIZER, corr, save_rhams,temp_mul=temp, temp_type=temp_type)"
   ]
  },
  {
   "cell_type": "markdown",
   "metadata": {},
   "source": [
    "Finally, we generate the data by using ```generate_random_Sij_sparse``` which is found in ```stability_analysis_class.py```:"
   ]
  },
  {
   "cell_type": "code",
   "execution_count": 90,
   "metadata": {},
   "outputs": [],
   "source": [
    "no_of_samples= 5\n",
    "dist, en, diffSij, diffSq, Sqs, Sijs, Sqints, Sq_int=STABILITY_ANALYSIS.generate_random_Sij_sparse(no_of_samples)"
   ]
  },
  {
   "cell_type": "markdown",
   "metadata": {},
   "source": [
    "The output is a list of 8 objects so instead of storing it in a single variable we have directly stored it in 8 conevniently-named variables. Let us now see what each of them contains."
   ]
  },
  {
   "cell_type": "markdown",
   "metadata": {},
   "source": [
    "```dist``` contains the distances of the random states to the ground state of the reference Hamiltonian:"
   ]
  },
  {
   "cell_type": "code",
   "execution_count": 91,
   "metadata": {
    "scrolled": true
   },
   "outputs": [
    {
     "data": {
      "text/plain": [
       "[0.09993700942440675,\n",
       " 0.0142744668271646,\n",
       " 0.05877572743899295,\n",
       " 0.05702217983044666,\n",
       " 0.06426007380249799]"
      ]
     },
     "execution_count": 91,
     "metadata": {},
     "output_type": "execute_result"
    }
   ],
   "source": [
    "dist"
   ]
  },
  {
   "cell_type": "markdown",
   "metadata": {},
   "source": [
    "```en``` contains the corresponding ground state energies:"
   ]
  },
  {
   "cell_type": "code",
   "execution_count": 92,
   "metadata": {},
   "outputs": [
    {
     "name": "stdout",
     "output_type": "stream",
     "text": [
      "[array([0.19987402-1.11022302e-16j]), array([0.02854893-5.55111512e-17j]), array([0.11755145+0.j]), array([0.11404436-5.55111512e-17j]), array([0.12852015-5.55111512e-17j])]\n"
     ]
    }
   ],
   "source": [
    "print(en)"
   ]
  },
  {
   "cell_type": "markdown",
   "metadata": {},
   "source": [
    "```diffSij``` contains the distances between real-space correlators:"
   ]
  },
  {
   "cell_type": "code",
   "execution_count": 93,
   "metadata": {},
   "outputs": [
    {
     "data": {
      "text/plain": [
       "[0.017562675193485484,\n",
       " 0.006637544454098732,\n",
       " 0.01346872548423681,\n",
       " 0.013266287430654302,\n",
       " 0.014083094870049707]"
      ]
     },
     "execution_count": 93,
     "metadata": {},
     "output_type": "execute_result"
    }
   ],
   "source": [
    "diffSij"
   ]
  },
  {
   "cell_type": "markdown",
   "metadata": {},
   "source": [
    "```Sqs``` contains the reciprocal space expressions of all the random correlators, computed on a $100 \\times 100$ grid in $\\mathbf{q}$-space. In other words, these are the spin-resovled diffuse, magnetic neutron scattering functions. To be more explicit, let \n",
    "\n",
    "$\\rho_{i,j}^{\\alpha,\\beta}\\left[\\psi_n^{\\rm rand}\\right] \n",
    "\\equiv \n",
    "\\left\\langle \n",
    "    \\psi_n^{\\rm rand} \n",
    "    \\left| \n",
    "        S_i^{\\alpha} S_j^{\\beta} \n",
    "    \\right|\n",
    "    \\psi_n^{\\rm rand}\n",
    "\\right\\rangle$ \n",
    "\n",
    "represent the correlator between the component $\\alpha$ of the spin at site $i$ and the component $\\beta$ of the spin at site $j$ ($\\alpha,\\beta=x,y,z$; $i,j=0,1,\\ldots,L-1$). We define the reciprocal of this quantity (up to a normalisation constant) as \n",
    "\n",
    "$\\mathcal{S}_{\\alpha,\\beta}^n(\\mathbf{q})\n",
    "\\equiv \n",
    "\\sum_{i,j=0}^{L-1}e^{i\\mathbf{q}.(\\mathbf{R}_i-\\mathbf{R}_j)}\\rho_{i,j}^{\\alpha,\\beta}\\left[\\psi_n^{\\rm rand}\\right] $\n",
    "\n",
    "Note that this is not the same as a Fourier transform, as the quantity $\\rho_{i,j}^{\\alpha,\\beta}\\left[\\psi_n^{\\rm rand}\\right]$ does not depend only on $\\mathbf{R}_i-\\mathbf{R}_j$ but in general depends on $\\mathbf{R}_i$ and $\\mathbf{R}_j$ independently. Indeed, this will be the case for a magnetic molecule sitting somewhere in space, since the structure is not periodic in this case. For the same reason, the vector $\\mathbf{q}$ is not restricted to a discretised lattice. It represents the momentum transferred between the sample and the neutron, which can vary continuously. In the code we discretise the values of the two-dimensional vactor $\\mathbf{q}=(q_x,q_y)$ by allowing 100 values of $q_x$ and 100 values of $q_y$, each uniformly distributed between $-2\\pi$ and $+2\\pi$ (giving 10000 values of the wave vector $\\mathbf{q}$ in total).\n",
    "\n",
    "**TO DO:**\n",
    "* **The code must be generalised (and then documented here) to make it possible to change how fine the q-grid is and also to extend the q values further out e.g. to $10\\pi$ or, conversely, focusing on a smaller part of q-space. This is important, for example in a big molecule what happens at long distances influences a small region of q-space ner the origin.**\n",
    "* **Throughout this tutorial we give the formulae for sums and integrals without their normalisation factors. We must document here those.**"
   ]
  },
  {
   "cell_type": "markdown",
   "metadata": {},
   "source": [
    "The structure of ```Sqs``` is best illustrated through a couple of  examples. For instance, in our case, \n",
    "\n",
    "```Sqs[3][\"Sxy\"][23][76]``` \n",
    "\n",
    "contains the value of $\\mathcal{S}_{x,y}^3(\\mathbf{q})$ at a wave vector $\\mathbf{q}$ given by the coordinates $(23,76)$ on our discretised reciproclal grid:"
   ]
  },
  {
   "cell_type": "code",
   "execution_count": 94,
   "metadata": {},
   "outputs": [
    {
     "name": "stdout",
     "output_type": "stream",
     "text": [
      "(0.006821831535221451-0.0042732562490335226j)\n"
     ]
    }
   ],
   "source": [
    "print(Sqs[3][\"Sxy\"][23][76])"
   ]
  },
  {
   "cell_type": "markdown",
   "metadata": {},
   "source": [
    "Similarly \n",
    "\n",
    "```Sqs[2][\"Syy\"][10][35]``` \n",
    "\n",
    "contains the value of  $\\mathcal{S}_{y,y}^2(\\mathbf{q})$ at a wave vector $\\mathbf{q}$ given by the coordinates $(10,35)$:"
   ]
  },
  {
   "cell_type": "code",
   "execution_count": 95,
   "metadata": {},
   "outputs": [
    {
     "name": "stdout",
     "output_type": "stream",
     "text": [
      "(0.1849297677937945+0j)\n"
     ]
    }
   ],
   "source": [
    "print(Sqs[2][\"Syy\"][10][35])"
   ]
  },
  {
   "cell_type": "markdown",
   "metadata": {},
   "source": [
    "Note that the $xy$ correlator is a complex number, while the $yy$ correlator is real. This makes sense: $\\mathcal{S}_{\\alpha,\\beta}^n(\\mathbf{q})$ is not the expectation value of a Hermitian operator, and in general the sum over $i$ and $j$ will have terms of the form \n",
    "\n",
    "$\\left\\langle \n",
    "    \\psi_n^{\\rm rand} \n",
    "    \\left|  \n",
    "    S_i^{\\alpha} S_j^{\\beta}\n",
    " \\right|\n",
    "    \\psi_n^{\\rm rand}\n",
    "\\right\\rangle\n",
    "e^{i.(\\mathbf{R}_i-\\mathbf{R}_j)}\n",
    "+\n",
    "\\left\\langle \n",
    "    \\psi_n^{\\rm rand} \n",
    "    \\left| \n",
    "    S_i^{\\beta} S_j^{\\alpha}\n",
    "\\right|\n",
    "    \\psi_n^{\\rm rand}\n",
    "\\right\\rangle\n",
    "e^{-i.(\\mathbf{R}_i-\\mathbf{R}_j)}$\n",
    "\n",
    "The two expectation values are both real but in general they are different, and therefore the imaginary parts of the two exponentials do not cancel. For $\\alpha=\\beta$, they do."
   ]
  },
  {
   "cell_type": "markdown",
   "metadata": {},
   "source": [
    "```Sijs``` contains the values of real-space correlators, for instance ```Sijs[3]['Sxz'][0][1]``` is the value of the $xz$ correlator betweent the 1st site and the 2nd site in the 3rd random state, \n",
    "$\\left\\langle \n",
    "    \\psi_3^{\\rm rand} \n",
    "    \\left| \n",
    "        S_0^{x} S_1^{z} \n",
    "    \\right|\n",
    "    \\psi_3^{\\rm rand}\n",
    "\\right\\rangle$:"
   ]
  },
  {
   "cell_type": "code",
   "execution_count": 96,
   "metadata": {},
   "outputs": [
    {
     "data": {
      "text/plain": [
       "(-0.030674953901380315-8.673617379884035e-19j)"
      ]
     },
     "execution_count": 96,
     "metadata": {},
     "output_type": "execute_result"
    }
   ],
   "source": [
    "Sijs[3]['Sxz'][0][1]"
   ]
  },
  {
   "cell_type": "markdown",
   "metadata": {},
   "source": [
    "```Sqints``` contains the diffuse magnetic neutron scattering functions for each fo the random ground states, computed by combining the individual spin-resolved functions $\\mathcal{S}_{\\alpha,\\beta}\\left(\\mathbf{q}\\right)$ using the formula (up to a normalisation factor)\n",
    "\n",
    "$    \\mathcal{S}(\\mathbf{q})\n",
    "    =\n",
    "    \\sum_{\\alpha.\\beta}\n",
    "    \\left(\n",
    "        \\delta_{\\alpha,\\beta}-\\hat{\\mathbf{q}}_{\\alpha}\\hat{\\mathbf{q}}_{\\beta}\n",
    "    \\right)\n",
    "    \\mathcal{S}_{\\alpha,\\beta}(\\mathbf{q}).$\n",
    "    \n",
    "Thus for instance ```Sqints[2][10][35]``` is the value of $\\mathcal{S}\\left(\\mathbf{q}\\right)$ for the 3rd random state (remember that random states are numbers $n=0,1,2,3,\\ldots$) evaluated at the 10th values of $q_x$ and the 35th value of $q_y$:"
   ]
  },
  {
   "cell_type": "code",
   "execution_count": 97,
   "metadata": {
    "scrolled": true
   },
   "outputs": [
    {
     "data": {
      "text/plain": [
       "0.49397964929005383"
      ]
     },
     "execution_count": 97,
     "metadata": {},
     "output_type": "execute_result"
    }
   ],
   "source": [
    "Sqints[2][10][35]"
   ]
  },
  {
   "cell_type": "markdown",
   "metadata": {},
   "source": [
    "Finally, ```Sq_int``` is the distance between the scattering functions $S'\\left(\\mathbf{q}\\right)$ of a random state and its value $S'\\left(\\mathbf{q}\\right)$ for the ground state of the reference Hamiltonian, evaluated using \n",
    "\n",
    "$    \\Delta \\mathcal{S} =  \\int d\\mathbf{q} \\left[\\mathcal{S}(\\mathbf{q}) - \\mathcal{S}'(\\mathbf{q})\\right]^2.$\n",
    "\n",
    "```Sq_int[n]``` is the value of this quantity for the $n^{\\rm th}$ random state:"
   ]
  },
  {
   "cell_type": "code",
   "execution_count": 98,
   "metadata": {},
   "outputs": [
    {
     "data": {
      "text/plain": [
       "[1.0641755087274283,\n",
       " 0.06897685407249748,\n",
       " 0.9648364510425409,\n",
       " 0.5341331250205826,\n",
       " 0.6582899644343223]"
      ]
     },
     "execution_count": 98,
     "metadata": {},
     "output_type": "execute_result"
    }
   ],
   "source": [
    "Sq_int"
   ]
  },
  {
   "cell_type": "markdown",
   "metadata": {},
   "source": [
    "We can see that there is a correlation between how close the scattering functions were and how close the states were: "
   ]
  },
  {
   "cell_type": "code",
   "execution_count": 99,
   "metadata": {},
   "outputs": [
    {
     "data": {
      "image/png": "[encoded data removed]",
      "text/plain": [
       "<Figure size 432x288 with 1 Axes>"
      ]
     },
     "metadata": {
      "needs_background": "light"
     },
     "output_type": "display_data"
    }
   ],
   "source": [
    "fig, ax = plt.subplots()\n",
    "\n",
    "scale = 20 # size of dots\n",
    "\n",
    "x, y = dist,Sq_int  \n",
    "ax.scatter(x, y, c='blue', s=scale, label='A plot',alpha=1.0, edgecolors='none')\n",
    "\n",
    "min_x=min(x)\n",
    "max_x=max(x)\n",
    "del_x=max_x-min_x\n",
    "min_y=min(y)\n",
    "max_y=max(y)\n",
    "del_y=max_y-min_y\n",
    "\n",
    "plt.xlim(min_x-0.2*del_x,max_x+0.2*del_x)\n",
    "plt.ylim(min_y-0.2*del_y,max_y+0.2*del_y)\n",
    "#ax.legend('sss') \n",
    "\n",
    "ax.grid(False) # True = grid displayed ; False = no grid displayed\n",
    "\n",
    "ax.set_aspect(del_x/del_y) # Makes aspect ratio 1:1\n",
    "\n",
    "ax.axhline(y=0, linewidth=0.5,color='k')\n",
    "ax.axvline(x=0, linewidth=0.5,color='k')\n",
    "\n",
    "plt.savefig('filename.png', dpi=300) # Export hires figure\n",
    "\n",
    "plt.show()"
   ]
  },
  {
   "cell_type": "markdown",
   "metadata": {},
   "source": [
    "We can see that there's a correlation, with the states that are closer to the ground state of the reference Hamiltonian generally having smaller ```Sq_int```."
   ]
  },
  {
   "cell_type": "markdown",
   "metadata": {},
   "source": [
    "It is illustrative to display the $\\mathcal{S}(\\mathbf{q})$ for each fo the random states:"
   ]
  },
  {
   "cell_type": "code",
   "execution_count": 100,
   "metadata": {},
   "outputs": [
    {
     "name": "stdout",
     "output_type": "stream",
     "text": [
      "0 th random state, dist= 0.09993700942440675 Sq_int= 1.0641755087274283 :\n"
     ]
    },
    {
     "data": {
      "image/png": "[encoded data removed]",
      "text/plain": [
       "<Figure size 432x288 with 1 Axes>"
      ]
     },
     "metadata": {
      "needs_background": "light"
     },
     "output_type": "display_data"
    },
    {
     "name": "stdout",
     "output_type": "stream",
     "text": [
      "1 th random state, dist= 0.0142744668271646 Sq_int= 0.06897685407249748 :\n"
     ]
    },
    {
     "data": {
      "image/png": "[encoded data removed]",
      "text/plain": [
       "<Figure size 432x288 with 1 Axes>"
      ]
     },
     "metadata": {
      "needs_background": "light"
     },
     "output_type": "display_data"
    },
    {
     "name": "stdout",
     "output_type": "stream",
     "text": [
      "2 th random state, dist= 0.05877572743899295 Sq_int= 0.9648364510425409 :\n"
     ]
    },
    {
     "data": {
      "image/png": "[encoded data removed]",
      "text/plain": [
       "<Figure size 432x288 with 1 Axes>"
      ]
     },
     "metadata": {
      "needs_background": "light"
     },
     "output_type": "display_data"
    },
    {
     "name": "stdout",
     "output_type": "stream",
     "text": [
      "3 th random state, dist= 0.05702217983044666 Sq_int= 0.5341331250205826 :\n"
     ]
    },
    {
     "data": {
      "image/png": "[encoded data removed]",
      "text/plain": [
       "<Figure size 432x288 with 1 Axes>"
      ]
     },
     "metadata": {
      "needs_background": "light"
     },
     "output_type": "display_data"
    },
    {
     "name": "stdout",
     "output_type": "stream",
     "text": [
      "4 th random state, dist= 0.06426007380249799 Sq_int= 0.6582899644343223 :\n"
     ]
    },
    {
     "data": {
      "image/png": "[encoded data removed]",
      "text/plain": [
       "<Figure size 432x288 with 1 Axes>"
      ]
     },
     "metadata": {
      "needs_background": "light"
     },
     "output_type": "display_data"
    }
   ],
   "source": [
    "for n in range(no_of_samples):\n",
    "    print(n,\"th random state, dist=\",dist[n],\"Sq_int=\",Sq_int[n],\":\")\n",
    "    plt.imshow(Sqints[n])\n",
    "    plt.show()"
   ]
  },
  {
   "cell_type": "code",
   "execution_count": null,
   "metadata": {},
   "outputs": [],
   "source": []
  },
  {
   "cell_type": "markdown",
   "metadata": {},
   "source": [
    "So we can see that the different random states generate very different scattering functions. We also see that the scattering functions that have low values of ```dist``` and ```Sq_int``` actually look similar to what we would expect (in particular, they have the right symmetry)."
   ]
  },
  {
   "cell_type": "markdown",
   "metadata": {},
   "source": [
    "For comparison, let us generate the scattering image for the ground state of our reference Hamiltonian. A simple way to do this is to run a new exploration of the fitness landscape with ```delta=0``` i.e. no variation of the state away from the exact ground state. N, and naturally only one state is needed in this case, ```no_of_samples= 1```:\n"
   ]
  },
  {
   "cell_type": "code",
   "execution_count": 104,
   "metadata": {},
   "outputs": [],
   "source": [
    "delta= 0.0\n",
    "no_of_processes= 64 \n",
    "RANDOMIZER = RandomizerStateRandomDelta(HAMILTONIAN, delta, no_of_processes)\n",
    "\n",
    "corr = [\"Sxx\", \"Sxy\", \"Sxz\", \"Syx\", \"Syy\", \"Syz\", \"Szx\", \"Szy\", \"Szz\"]\n",
    "temp= HAMILTONIAN.temp  # <-- Obtain temperature from the Hamiltonian setup\n",
    "save_rhams= \"False\"     # <-- Do not save random Hamiltonians/states\n",
    "temp_type= \"value\"      # <-- Temperature given explicitly\n",
    "\n",
    "STABILITY_ANALYSIS = StabilityAnalysisSparse(HAMILTONIAN, RANDOMIZER, corr, save_rhams,temp_mul=temp, temp_type=temp_type)\n",
    "\n",
    "no_of_samples= 1\n",
    "dist, en, diffSij, diffSq, Sqs, Sijs, Sqints, Sq_int=STABILITY_ANALYSIS.generate_random_Sij_sparse(no_of_samples)"
   ]
  },
  {
   "cell_type": "markdown",
   "metadata": {},
   "source": [
    "Let's plot the distances to the reference ground state t check that there is only one and it is zero (within rounding errors):"
   ]
  },
  {
   "cell_type": "code",
   "execution_count": 106,
   "metadata": {},
   "outputs": [
    {
     "data": {
      "text/plain": [
       "[-4.440892098500626e-16]"
      ]
     },
     "execution_count": 106,
     "metadata": {},
     "output_type": "execute_result"
    }
   ],
   "source": [
    "dist"
   ]
  },
  {
   "cell_type": "markdown",
   "metadata": {},
   "source": [
    "Good enough. Now let's plot the only $\\mathcal{S}\\left(\\mathbf{q}\\right)$ in this new data set: "
   ]
  },
  {
   "cell_type": "code",
   "execution_count": 107,
   "metadata": {},
   "outputs": [
    {
     "name": "stdout",
     "output_type": "stream",
     "text": [
      "0 th random state, dist= -4.440892098500626e-16 Sq_int= 3.0813338366240264e-28 :\n"
     ]
    },
    {
     "data": {
      "image/png": "[encoded data removed]",
      "text/plain": [
       "<Figure size 432x288 with 1 Axes>"
      ]
     },
     "metadata": {
      "needs_background": "light"
     },
     "output_type": "display_data"
    }
   ],
   "source": [
    "for n in range(no_of_samples):\n",
    "    print(n,\"th random state, dist=\",dist[n],\"Sq_int=\",Sq_int[n],\":\")\n",
    "    plt.imshow(Sqints[n])\n",
    "    plt.show()"
   ]
  },
  {
   "cell_type": "markdown",
   "metadata": {},
   "source": [
    "**THIS ACTUALLY LOOKS LIKE NOISE. I SUSPECT ```Sqints``` ARE NOT INDIVIDUAL SCATTERING FUNCTIONS BUT INDIVIDUAL DISTANCES BETWEEN SCATTERING FUNCTIONS AND THE REFERENCE ONE AT INDIVIDUAL q-VECTORS.**\n",
    "\n",
    "**TO DO:**\n",
    "\n",
    "* **PLEASE CONFIRM.**"
   ]
  },
  {
   "cell_type": "markdown",
   "metadata": {},
   "source": [
    "Here with many more data points (```no_of_samples= 5``` $\\to$ ```1000```) and wider variation of random states (```delta= 0.5``` $\\to$ ```3```):"
   ]
  },
  {
   "cell_type": "code",
   "execution_count": 228,
   "metadata": {},
   "outputs": [],
   "source": [
    "delta= 3\n",
    "no_of_processes= 64\n",
    "RANDOMIZER = RandomizerStateRandomDelta(HAMILTONIAN, delta, no_of_processes)\n",
    "\n",
    "corr = [\"Sxx\", \"Sxy\", \"Sxz\", \"Syx\", \"Syy\", \"Syz\", \"Szx\", \"Szy\", \"Szz\"]\n",
    "temp= HAMILTONIAN.temp  # <-- Obtain temperature from the Hamiltonian setup\n",
    "save_rhams= \"False\"     # <-- Do not save random Hamiltonians/states\n",
    "temp_type= \"value\"      # <-- Temperature given explicitly\n",
    "\n",
    "STABILITY_ANALYSIS = StabilityAnalysisSparse(HAMILTONIAN, RANDOMIZER, corr, save_rhams,temp_mul=temp, temp_type=temp_type)\n",
    "\n",
    "no_of_samples= 1000\n",
    "dist, en, diffSij, diffSq, Sqs, Sijs, Sqints, Sq_int=EXAMPLE=STABILITY_ANALYSIS.generate_random_Sij_sparse(no_of_samples)"
   ]
  },
  {
   "cell_type": "code",
   "execution_count": 229,
   "metadata": {},
   "outputs": [
    {
     "data": {
      "image/png": "[encoded data removed]",
      "text/plain": [
       "<Figure size 432x288 with 1 Axes>"
      ]
     },
     "metadata": {
      "needs_background": "light"
     },
     "output_type": "display_data"
    },
    {
     "data": {
      "image/png": "[encoded data removed]",
      "text/plain": [
       "<Figure size 432x288 with 1 Axes>"
      ]
     },
     "metadata": {
      "needs_background": "light"
     },
     "output_type": "display_data"
    }
   ],
   "source": [
    "fig, ax = plt.subplots()\n",
    "\n",
    "scale = 20 # size of dots\n",
    "\n",
    "x, y = dist,Sq_int  \n",
    "ax.scatter(x, y, c='blue', s=scale, label='A plot',alpha=1.0, edgecolors='none')\n",
    "\n",
    "max_dist=max(dist)\n",
    "max_Sq_int=max(Sq_int)\n",
    "\n",
    "#max_dist=max_dist/10\n",
    "#max_Sq_int=max_Sq_int/100\n",
    "\n",
    "plt.xlim(0,max_dist)\n",
    "plt.ylim(0,max_Sq_int)\n",
    "#ax.legend('sss') \n",
    "\n",
    "ax.grid(False) # True = grid displayed ; False = no grid displayed\n",
    "\n",
    "ax.set_aspect(max_dist/max_Sq_int) # Use lengths of xlim and ylim for a square plot\n",
    "\n",
    "plt.savefig('filename.png', dpi=300) # Export hires figure\n",
    "\n",
    "plt.show()\n",
    "\n",
    "fig, ax = plt.subplots()\n",
    "\n",
    "scale = 20 # size of dots\n",
    "\n",
    "x, y = dist,Sq_int  \n",
    "ax.scatter(x, y, c='blue', s=scale, label='A plot',alpha=1.0, edgecolors='none')\n",
    "\n",
    "maxx=0.2\n",
    "maxy=1\n",
    "plt.xlim(0,maxx)\n",
    "plt.ylim(0,maxy)\n",
    "#ax.legend('sss') \n",
    "\n",
    "ax.grid(False) # True = grid displayed ; False = no grid displayed\n",
    "\n",
    "ax.set_aspect(maxx/maxy) # Use lengths of xlim and ylim for a square plot\n",
    "\n",
    "plt.savefig('filename.png', dpi=300) # Export hires figure\n",
    "\n",
    "plt.show()"
   ]
  },
  {
   "cell_type": "markdown",
   "metadata": {},
   "source": [
    "Here is another example with L=4 spins in the molecule, where we put everything in one cell for easy re-use (the cell takes about 20 seconds to run on a ThinkPad P1 Gen2 Workstation Laptop):"
   ]
  },
  {
   "cell_type": "code",
   "execution_count": 232,
   "metadata": {},
   "outputs": [
    {
     "data": {
      "image/png": "[encoded data removed]",
      "text/plain": [
       "<Figure size 432x288 with 1 Axes>"
      ]
     },
     "metadata": {
      "needs_background": "light"
     },
     "output_type": "display_data"
    }
   ],
   "source": [
    "# 1) SET VALUES FOR INPUTS:\n",
    "\n",
    "L=4                                        # <-- Number of sites\n",
    "h = [[0, 0, 0]]                            # <-- No applied field\n",
    "J_onsite = np.zeros((3, 3))                # <-- No onsite interactions (superfluous anyway)\n",
    "J_nnn = np.zeros((3, 3))                   # <-- No nnn interactions\n",
    "J_nn = [[1, 0, 0], [0, 1, 0], [0, 0, 1]]   # <-- Diagonal nn interactions\n",
    "\n",
    "# 2) CREATE THE HAMILTONIAN: \n",
    "\n",
    "HAMILTONIAN = NNHamiltonian(L, h, J_onsite, J_nn, J_nnn, temp=0)\n",
    "\n",
    "# 3) SET UP THE RANDOMIZER:\n",
    "\n",
    "delta= 1\n",
    "no_of_processes= 64\n",
    "RANDOMIZER = RandomizerStateRandomDelta(HAMILTONIAN, delta, no_of_processes)\n",
    "\n",
    "# 4) SET UP THE FITNESS LANDSCAPE ANALYSIS:\n",
    "\n",
    "corr = [\"Sxx\", \"Sxy\", \"Sxz\", \"Syx\", \"Syy\", \"Syz\", \"Szx\", \"Szy\", \"Szz\"]\n",
    "temp= HAMILTONIAN.temp  # <-- Obtain temperature from the Hamiltonian setup\n",
    "save_rhams= \"False\"     # <-- Do not save random Hamiltonians/states\n",
    "temp_type= \"value\"      # <-- Temperature given explicitly\n",
    "\n",
    "STABILITY_ANALYSIS = StabilityAnalysisSparse(HAMILTONIAN, RANDOMIZER, corr, save_rhams,temp_mul=temp, temp_type=temp_type)\n",
    "\n",
    "# 5) CARRY OUT THE CALCULATIONS:\n",
    "\n",
    "no_of_samples= 100\n",
    "dist, en, diffSij, diffSq, Sqs, Sijs, Sqints, Sq_int=EXAMPLE=STABILITY_ANALYSIS.generate_random_Sij_sparse(no_of_samples)\n",
    "\n",
    "# 6) MAKE THE PLOT:\n",
    "\n",
    "fig, ax = plt.subplots()\n",
    "\n",
    "scale = 20 # size of dots\n",
    "\n",
    "x, y = dist,Sq_int  \n",
    "ax.scatter(x, y, c='blue', s=scale, label='A plot',alpha=1.0, edgecolors='none')\n",
    "\n",
    "max_dist=max(dist)\n",
    "max_Sq_int=max(Sq_int)\n",
    "\n",
    "#max_dist=max_dist/10\n",
    "#max_Sq_int=max_Sq_int/10\n",
    "\n",
    "plt.xlim(0,max_dist)\n",
    "plt.ylim(0,max_Sq_int)\n",
    "#ax.legend('sssx') \n",
    "\n",
    "ax.grid(False) # True = grid displayed ; False = no grid displayed\n",
    "\n",
    "ax.set_aspect(max_dist/max_Sq_int) # Use lengths of xlim and ylim for a square plot\n",
    "\n",
    "plt.savefig('filename.png', dpi=300) # Export hires figure\n",
    "\n",
    "plt.show()"
   ]
  },
  {
   "cell_type": "code",
   "execution_count": 231,
   "metadata": {
    "scrolled": true
   },
   "outputs": [
    {
     "data": {
      "image/png": "[encoded data removed]",
      "text/plain": [
       "<Figure size 432x288 with 1 Axes>"
      ]
     },
     "metadata": {
      "needs_background": "light"
     },
     "output_type": "display_data"
    }
   ],
   "source": [
    "# 1) SET VALUES FOR INPUTS:\n",
    "\n",
    "L=4                                        # <-- Number of sites\n",
    "h = [[0, 0, 0]]                            # <-- No applied field\n",
    "J_onsite = np.zeros((3, 3))                # <-- No onsite interactions (superfluous anyway)\n",
    "J_nnn = np.zeros((3, 3))                   # <-- No nnn interactions\n",
    "J_nn = [[1, 0, 0], [0, 1, 0], [0, 0, 1]]   # <-- Diagonal nn interactions\n",
    "\n",
    "# 2) CREATE THE HAMILTONIAN: \n",
    "\n",
    "HAMILTONIAN = NNHamiltonian(L, h, J_onsite, J_nn, J_nnn, temp=0)\n",
    "\n",
    "# 3) SET UP THE RANDOMIZER:\n",
    "\n",
    "delta= 1\n",
    "no_of_processes= 64\n",
    "RANDOMIZER = RandomizerStateRandomDelta(HAMILTONIAN, delta, no_of_processes)\n",
    "\n",
    "# 4) SET UP THE FITNESS LANDSCAPE ANALYSIS:\n",
    "\n",
    "corr = [\"Sxx\", \"Sxy\", \"Sxz\", \"Syx\", \"Syy\", \"Syz\", \"Szx\", \"Szy\", \"Szz\"]\n",
    "temp= HAMILTONIAN.temp  # <-- Obtain temperature from the Hamiltonian setup\n",
    "save_rhams= \"False\"     # <-- Do not save random Hamiltonians/states\n",
    "temp_type= \"value\"      # <-- Temperature given explicitly\n",
    "\n",
    "STABILITY_ANALYSIS = StabilityAnalysisSparse(HAMILTONIAN, RANDOMIZER, corr, save_rhams,temp_mul=temp, temp_type=temp_type)\n",
    "\n",
    "# 5) CARRY OUT THE CALCULATIONS:\n",
    "\n",
    "no_of_samples= 200\n",
    "dist, en, diffSij, diffSq, Sqs, Sijs, Sqints, Sq_int=EXAMPLE=STABILITY_ANALYSIS.generate_random_Sij_sparse(no_of_samples)\n",
    "\n",
    "# 6) MAKE THE PLOT:\n",
    "\n",
    "fig, ax = plt.subplots()\n",
    "\n",
    "scale = 20 # size of dots\n",
    "\n",
    "x, y = dist,Sq_int  \n",
    "ax.scatter(x, y, c='blue', s=scale, label='A plot',alpha=1.0, edgecolors='none')\n",
    "\n",
    "max_dist=max(dist)\n",
    "max_Sq_int=max(Sq_int)\n",
    "\n",
    "#max_dist=max_dist/10\n",
    "#max_Sq_int=max_Sq_int/10\n",
    "\n",
    "plt.xlim(0,max_dist)\n",
    "plt.ylim(0,max_Sq_int)\n",
    "#ax.legend('sss') \n",
    "\n",
    "ax.grid(False) # True = grid displayed ; False = no grid displayed\n",
    "\n",
    "ax.set_aspect(max_dist/max_Sq_int) # Use lengths of xlim and ylim for a square plot\n",
    "\n",
    "plt.savefig('filename.png', dpi=300) # Export hires figure\n",
    "\n",
    "plt.show()"
   ]
  },
  {
   "cell_type": "code",
   "execution_count": 242,
   "metadata": {
    "scrolled": true
   },
   "outputs": [
    {
     "data": {
      "image/png": "[encoded data removed]",
      "text/plain": [
       "<Figure size 432x288 with 1 Axes>"
      ]
     },
     "metadata": {
      "needs_background": "light"
     },
     "output_type": "display_data"
    }
   ],
   "source": [
    "# 1) SET VALUES FOR INPUTS:\n",
    "\n",
    "L=8                                        # <-- Number of sites\n",
    "h = [[0, 0, 0]]                            # <-- No applied field\n",
    "J_onsite = np.zeros((3, 3))                # <-- No onsite interactions (superfluous anyway)\n",
    "J_nnn = np.zeros((3, 3))                   # <-- No nnn interactions\n",
    "J_nn = [[1, 0, 0], [0, 1, 0], [0, 0, 1]]   # <-- Diagonal nn interactions\n",
    "\n",
    "# 2) CREATE THE HAMILTONIAN: \n",
    "\n",
    "HAMILTONIAN = NNHamiltonian(L, h, J_onsite, J_nn, J_nnn, temp=0)\n",
    "\n",
    "# 3) SET UP THE RANDOMIZER:\n",
    "\n",
    "delta= 2\n",
    "no_of_processes= 64\n",
    "RANDOMIZER = RandomizerStateRandomDelta(HAMILTONIAN, delta, no_of_processes)\n",
    "\n",
    "# 4) SET UP THE FITNESS LANDSCAPE ANALYSIS:\n",
    "\n",
    "corr = [\"Sxx\", \"Sxy\", \"Sxz\", \"Syx\", \"Syy\", \"Syz\", \"Szx\", \"Szy\", \"Szz\"]\n",
    "temp= HAMILTONIAN.temp  # <-- Obtain temperature from the Hamiltonian setup\n",
    "save_rhams= \"False\"     # <-- Do not save random Hamiltonians/states\n",
    "temp_type= \"value\"      # <-- Temperature given explicitly\n",
    "\n",
    "STABILITY_ANALYSIS = StabilityAnalysisSparse(HAMILTONIAN, RANDOMIZER, corr, save_rhams,temp_mul=temp, temp_type=temp_type)\n",
    "\n",
    "# 5) CARRY OUT THE CALCULATIONS:\n",
    "\n",
    "no_of_samples= 200\n",
    "dist, en, diffSij, diffSq, Sqs, Sijs, Sqints, Sq_int=EXAMPLE=STABILITY_ANALYSIS.generate_random_Sij_sparse(no_of_samples)\n",
    "\n",
    "# 6) MAKE THE PLOT:\n",
    "\n",
    "fig, ax = plt.subplots()\n",
    "\n",
    "scale = 20 # size of dots\n",
    "\n",
    "x, y = dist,Sq_int  \n",
    "ax.scatter(x, y, c='blue', s=scale, label='A plot',alpha=1.0, edgecolors='none')\n",
    "\n",
    "max_dist=max(dist)\n",
    "max_Sq_int=max(Sq_int)\n",
    "\n",
    "#max_dist=max_dist/10\n",
    "#max_Sq_int=max_Sq_int/10\n",
    "\n",
    "plt.xlim(0,max_dist)\n",
    "plt.ylim(0,max_Sq_int)\n",
    "#ax.legend('sss') \n",
    "\n",
    "ax.grid(False) # True = grid displayed ; False = no grid displayed\n",
    "\n",
    "ax.set_aspect(max_dist/max_Sq_int) # Use lengths of xlim and ylim for a square plot\n",
    "\n",
    "plt.savefig('filename.png', dpi=300) # Export hires figure\n",
    "\n",
    "plt.show()"
   ]
  },
  {
   "cell_type": "code",
   "execution_count": 243,
   "metadata": {
    "scrolled": true
   },
   "outputs": [
    {
     "data": {
      "image/png": "[encoded data removed]",
      "text/plain": [
       "<Figure size 432x288 with 1 Axes>"
      ]
     },
     "metadata": {
      "needs_background": "light"
     },
     "output_type": "display_data"
    }
   ],
   "source": [
    "# 1) SET VALUES FOR INPUTS:\n",
    "\n",
    "L=10                                        # <-- Number of sites\n",
    "h = [[0, 0, 0]]                            # <-- No applied field\n",
    "J_onsite = np.zeros((3, 3))                # <-- No onsite interactions (superfluous anyway)\n",
    "J_nnn = np.zeros((3, 3))                   # <-- No nnn interactions\n",
    "J_nn = [[1, 0, 0], [0, 1, 0], [0, 0, 1]]   # <-- Diagonal nn interactions\n",
    "\n",
    "# 2) CREATE THE HAMILTONIAN: \n",
    "\n",
    "HAMILTONIAN = NNHamiltonian(L, h, J_onsite, J_nn, J_nnn, temp=0)\n",
    "\n",
    "# 3) SET UP THE RANDOMIZER:\n",
    "\n",
    "delta= 2\n",
    "no_of_processes= 64\n",
    "RANDOMIZER = RandomizerStateRandomDelta(HAMILTONIAN, delta, no_of_processes)\n",
    "\n",
    "# 4) SET UP THE FITNESS LANDSCAPE ANALYSIS:\n",
    "\n",
    "corr = [\"Sxx\", \"Sxy\", \"Sxz\", \"Syx\", \"Syy\", \"Syz\", \"Szx\", \"Szy\", \"Szz\"]\n",
    "temp= HAMILTONIAN.temp  # <-- Obtain temperature from the Hamiltonian setup\n",
    "save_rhams= \"False\"     # <-- Do not save random Hamiltonians/states\n",
    "temp_type= \"value\"      # <-- Temperature given explicitly\n",
    "\n",
    "STABILITY_ANALYSIS = StabilityAnalysisSparse(HAMILTONIAN, RANDOMIZER, corr, save_rhams,temp_mul=temp, temp_type=temp_type)\n",
    "\n",
    "# 5) CARRY OUT THE CALCULATIONS:\n",
    "\n",
    "no_of_samples= 200\n",
    "dist, en, diffSij, diffSq, Sqs, Sijs, Sqints, Sq_int=EXAMPLE=STABILITY_ANALYSIS.generate_random_Sij_sparse(no_of_samples)\n",
    "\n",
    "# 6) MAKE THE PLOT:\n",
    "\n",
    "fig, ax = plt.subplots()\n",
    "\n",
    "scale = 20 # size of dots\n",
    "\n",
    "x, y = dist,Sq_int  \n",
    "ax.scatter(x, y, c='blue', s=scale, label='A plot',alpha=1.0, edgecolors='none')\n",
    "\n",
    "max_dist=max(dist)\n",
    "max_Sq_int=max(Sq_int)\n",
    "\n",
    "#max_dist=max_dist/10\n",
    "#max_Sq_int=max_Sq_int/10\n",
    "\n",
    "plt.xlim(0,max_dist)\n",
    "plt.ylim(0,max_Sq_int)\n",
    "#ax.legend('sss') \n",
    "\n",
    "ax.grid(False) # True = grid displayed ; False = no grid displayed\n",
    "\n",
    "ax.set_aspect(max_dist/max_Sq_int) # Use lengths of xlim and ylim for a square plot\n",
    "\n",
    "plt.savefig('filename.png', dpi=300) # Export hires figure\n",
    "\n",
    "plt.show()"
   ]
  },
  {
   "cell_type": "code",
   "execution_count": null,
   "metadata": {},
   "outputs": [],
   "source": []
  }
 ],
 "metadata": {
  "kernelspec": {
   "display_name": "Python 3",
   "language": "python",
   "name": "python3"
  },
  "language_info": {
   "codemirror_mode": {
    "name": "ipython",
    "version": 3
   },
   "file_extension": ".py",
   "mimetype": "text/x-python",
   "name": "python",
   "nbconvert_exporter": "python",
   "pygments_lexer": "ipython3",
   "version": "3.8.10"
  }
 },
 "nbformat": 4,
 "nbformat_minor": 4
}
